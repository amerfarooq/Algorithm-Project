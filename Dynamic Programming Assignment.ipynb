{
 "cells": [
  {
   "cell_type": "markdown",
   "metadata": {},
   "source": [
    "## Q2"
   ]
  },
  {
   "cell_type": "code",
   "execution_count": 197,
   "metadata": {},
   "outputs": [
    {
     "name": "stdout",
     "output_type": "stream",
     "text": [
      "Maximum value stolen 24 by stealing from houses [1, 4, 7]\n",
      "Computations saved due to memoization:  5\n"
     ]
    }
   ],
   "source": [
    "val = [0, 9, 3, 5, 8, 2, 4, 7]\n",
    "mem_2 = [None] * len(val)\n",
    "computations_saved_2 = 0\n",
    "\n",
    "def steal(house_i, stolen_val, stolen_houses):\n",
    "  if (mem_2[house_i] != None):\n",
    "    global computations_saved_2\n",
    "    computations_saved_2 += 1\n",
    "    return (mem_2[house_i][0] + stolen_val, mem_2[house_i][1] + stolen_houses)\n",
    "  \n",
    "  stolen_houses = deepcopy(stolen_houses)\n",
    "  \n",
    "  if (house_i <= 0):\n",
    "    return (stolen_val, stolen_houses)\n",
    "  \n",
    "  else:\n",
    "    s1 = steal(house_i - 1, stolen_val, stolen_houses)\n",
    "    \n",
    "    stolen_houses.append(house_i)\n",
    "    s2 = steal(house_i - 2, stolen_val + val[house_i], stolen_houses)\n",
    "    \n",
    "    result = None\n",
    "    \n",
    "    if (s1[0] > s2[0]):      result = s1\n",
    "    elif (s2[0] > s1[0]):    result = s2\n",
    "    else:                    result = s1\n",
    "        \n",
    "    mem_2[house_i] = result\n",
    "    return result\n",
    "  \n",
    "  \n",
    "ans = steal(len(val)-1, 0, [])\n",
    "print(\"Maximum value stolen\", ans[0], \"by stealing from houses\", ans[1])\n",
    "print(\"Computations saved due to memoization: \", computations_saved_2)"
   ]
  },
  {
   "cell_type": "markdown",
   "metadata": {},
   "source": [
    "## Q3 Attempt"
   ]
  },
  {
   "cell_type": "code",
   "execution_count": 247,
   "metadata": {},
   "outputs": [],
   "source": [
    "num_list = [3, 5, 10]\n",
    "\n",
    "def count_ways(sum_, list_):\n",
    "  \n",
    "  if (sum_ == 0):\n",
    "    return [list_]\n",
    "  \n",
    "  elif (sum_ < 0):\n",
    "    return [[]]\n",
    "  \n",
    "  results = []\n",
    "  for i, num in enumerate(num_list):\n",
    "      list_new = deepcopy(list_)\n",
    "      list_new.append(num)\n",
    "      \n",
    "      results.append(count_ways(sum_ - num, list_new))\n",
    "  \n",
    "  final_result = []\n",
    "  for l in results:\n",
    "    if len(l) > 0:final_result.append(l)\n",
    "      \n",
    "  if len(final_result) == 0:\n",
    "    return [[]]\n",
    "  else: return final_result\n",
    "\n",
    "\n",
    "# count_ways(22, [])  "
   ]
  },
  {
   "cell_type": "markdown",
   "metadata": {},
   "source": [
    "## Q4"
   ]
  },
  {
   "cell_type": "code",
   "execution_count": 249,
   "metadata": {},
   "outputs": [
    {
     "name": "stdout",
     "output_type": "stream",
     "text": [
      "Required subset [6, 94] has sum 100\n",
      "Computations saved due to memoization:  3554\n"
     ]
    }
   ],
   "source": [
    "from copy import deepcopy\n",
    "from random import shuffle\n",
    "\n",
    "computations_saved = 0\n",
    "\n",
    "cal_sum = 100\n",
    "nums = list(range(0, 100))\n",
    "shuffle(nums)\n",
    "\n",
    "mem = [ [ -1 for x in range(cal_sum + 1) ] for y in range(len(nums)) ]\n",
    "\n",
    "def sums_set(sm, num_i, clist):\n",
    "  if (mem[num_i][sm] != -1):\n",
    "    global computations_saved\n",
    "    computations_saved += 1\n",
    "    return mem[num_i][sm]\n",
    "  \n",
    "  clist = deepcopy(clist)\n",
    "  \n",
    "  if (sm == 0):\n",
    "    return clist\n",
    "  \n",
    "  elif (num_i == 0):\n",
    "    return []\n",
    "  \n",
    "  if (nums[num_i] > sm):\n",
    "    return sums_set(sm, num_i-1, clist)\n",
    "  \n",
    "  else:\n",
    "    l1 = sums_set(sm, num_i-1, clist)\n",
    "    \n",
    "    clist.append(nums[num_i])\n",
    "    l2 = sums_set(sm - nums[num_i], num_i-1, clist)\n",
    "   \n",
    "    result = None\n",
    "  \n",
    "    if (len(l1) == 0 and len(l2) != 0):   result = l2\n",
    "    elif (len(l1) != 0 and len(l2) == 0): result = l1\n",
    "    else:                                 result = l1\n",
    "\n",
    "    mem[num_i][sm] = result\n",
    "    return result\n",
    "\n",
    "print (\"Required subset\", sums_set(cal_sum, len(nums)-1, []), \"has sum\", cal_sum)\n",
    "print(\"Computations saved due to memoization: \", computations_saved)"
   ]
  },
  {
   "cell_type": "markdown",
   "metadata": {},
   "source": [
    "## Q5"
   ]
  },
  {
   "cell_type": "code",
   "execution_count": 241,
   "metadata": {},
   "outputs": [
    {
     "name": "stdout",
     "output_type": "stream",
     "text": [
      "Expected result 22 by cutting the rod in pieces of sizes [2, 6]\n"
     ]
    }
   ],
   "source": [
    "from copy import deepcopy\n",
    "\n",
    "lens = [1, 2, 3, 4, 5, 6, 7, 8]\n",
    "rates =  [1, 5, 8, 9, 10, 17, 17, 20]\n",
    "\n",
    "mem_3 = {}\n",
    "\n",
    "def rod(rod_len, rate, list_):\n",
    "  if (rod_len, rate) in mem_3:\n",
    "    return mem_3[(rod_len, rate)]\n",
    "  \n",
    "  if (rod_len == 0):\n",
    "    return (rate, list_)\n",
    "  \n",
    "  elif (rod_len < 0):\n",
    "    return (-1, [])\n",
    "  \n",
    "  results = []\n",
    "  for i, len_ in enumerate(lens):\n",
    "      list_new = deepcopy(list_)\n",
    "      list_new.append(len_)\n",
    "      \n",
    "      results.append(rod(rod_len - len_, rate + rates[i], list_new))\n",
    "    \n",
    "  max_rate = 0\n",
    "  max_rate_tuple = None\n",
    "  \n",
    "  for res in results:\n",
    "    if res[0] > max_rate: \n",
    "        max_rate = res[0]\n",
    "        max_rate_tuple = res\n",
    "  \n",
    "  mem_3[(rod_len, rate)] = max_rate_tuple\n",
    "  return max_rate_tuple\n",
    "\n",
    "\n",
    "ans_2 = rod(8, 0, [])\n",
    "print(\"Expected result\", ans_2[0], \"by cutting the rod in pieces of sizes\", ans_2[1])"
   ]
  },
  {
   "cell_type": "code",
   "execution_count": null,
   "metadata": {},
   "outputs": [],
   "source": []
  }
 ],
 "metadata": {
  "kernelspec": {
   "display_name": "Python 3",
   "language": "python",
   "name": "python3"
  },
  "language_info": {
   "codemirror_mode": {
    "name": "ipython",
    "version": 3
   },
   "file_extension": ".py",
   "mimetype": "text/x-python",
   "name": "python",
   "nbconvert_exporter": "python",
   "pygments_lexer": "ipython3",
   "version": "3.6.5"
  }
 },
 "nbformat": 4,
 "nbformat_minor": 2
}
